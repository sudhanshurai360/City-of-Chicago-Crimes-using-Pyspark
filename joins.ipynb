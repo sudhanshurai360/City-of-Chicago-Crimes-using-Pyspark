{
  "cells": [
    {
      "cell_type": "markdown",
      "metadata": {
        "id": "view-in-github",
        "colab_type": "text"
      },
      "source": [
        "<a href=\"https://colab.research.google.com/github/sudhanshurai360/City-of-Chicago-Crimes-using-Pyspark/blob/main/joins.ipynb\" target=\"_parent\"><img src=\"https://colab.research.google.com/assets/colab-badge.svg\" alt=\"Open In Colab\"/></a>"
      ]
    },
    {
      "cell_type": "markdown",
      "metadata": {
        "id": "8qf-TmnsBgXd"
      },
      "source": [
        "# Working with joins"
      ]
    },
    {
      "cell_type": "markdown",
      "metadata": {
        "id": "Dd6t0uFzuR4X"
      },
      "source": [
        "## Download and install Spark"
      ]
    },
    {
      "cell_type": "code",
      "execution_count": 2,
      "metadata": {
        "colab": {
          "base_uri": "https://localhost:8080/"
        },
        "id": "zToS5PqxBXpK",
        "outputId": "6f49cda7-3c90-474c-8e79-03a254337b1b"
      },
      "outputs": [
        {
          "output_type": "stream",
          "name": "stdout",
          "text": [
            "sample_data\n"
          ]
        }
      ],
      "source": [
        "!ls "
      ]
    },
    {
      "cell_type": "code",
      "execution_count": 3,
      "metadata": {
        "colab": {
          "base_uri": "https://localhost:8080/"
        },
        "id": "tt7ZS1_wGgjn",
        "outputId": "00089b19-54ab-4bbd-b9cb-4ab8dae6c94c"
      },
      "outputs": [
        {
          "output_type": "stream",
          "name": "stdout",
          "text": [
            "\r0% [Working]\r            \rGet:1 https://cloud.r-project.org/bin/linux/ubuntu bionic-cran40/ InRelease [3,626 B]\n",
            "\r0% [Connecting to archive.ubuntu.com (91.189.91.38)] [Connecting to security.ub\r0% [Connecting to archive.ubuntu.com (91.189.91.38)] [Connecting to security.ub\r                                                                               \rIgn:2 https://developer.download.nvidia.com/compute/machine-learning/repos/ubuntu1804/x86_64  InRelease\n",
            "\r                                                                               \rGet:3 https://developer.download.nvidia.com/compute/cuda/repos/ubuntu1804/x86_64  InRelease [1,581 B]\n",
            "Hit:4 https://developer.download.nvidia.com/compute/machine-learning/repos/ubuntu1804/x86_64  Release\n",
            "Get:5 http://security.ubuntu.com/ubuntu bionic-security InRelease [88.7 kB]\n",
            "Hit:6 http://archive.ubuntu.com/ubuntu bionic InRelease\n",
            "Get:7 http://archive.ubuntu.com/ubuntu bionic-updates InRelease [88.7 kB]\n",
            "Get:8 https://cloud.r-project.org/bin/linux/ubuntu bionic-cran40/ Packages [89.9 kB]\n",
            "Get:9 http://ppa.launchpad.net/c2d4u.team/c2d4u4.0+/ubuntu bionic InRelease [15.9 kB]\n",
            "Get:10 https://developer.download.nvidia.com/compute/cuda/repos/ubuntu1804/x86_64  Packages [903 kB]\n",
            "Get:11 http://archive.ubuntu.com/ubuntu bionic-backports InRelease [74.6 kB]\n",
            "Hit:12 http://ppa.launchpad.net/cran/libgit2/ubuntu bionic InRelease\n",
            "Get:14 http://ppa.launchpad.net/deadsnakes/ppa/ubuntu bionic InRelease [15.9 kB]\n",
            "Get:15 http://security.ubuntu.com/ubuntu bionic-security/main amd64 Packages [2,937 kB]\n",
            "Hit:16 http://ppa.launchpad.net/graphics-drivers/ppa/ubuntu bionic InRelease\n",
            "Get:17 http://ppa.launchpad.net/c2d4u.team/c2d4u4.0+/ubuntu bionic/main Sources [2,077 kB]\n",
            "Get:18 http://security.ubuntu.com/ubuntu bionic-security/universe amd64 Packages [1,533 kB]\n",
            "Get:19 http://archive.ubuntu.com/ubuntu bionic-updates/universe amd64 Packages [2,310 kB]\n",
            "Get:20 http://security.ubuntu.com/ubuntu bionic-security/restricted amd64 Packages [1,100 kB]\n",
            "Get:21 http://archive.ubuntu.com/ubuntu bionic-updates/restricted amd64 Packages [1,141 kB]\n",
            "Get:22 http://archive.ubuntu.com/ubuntu bionic-updates/main amd64 Packages [3,369 kB]\n",
            "Get:23 http://ppa.launchpad.net/c2d4u.team/c2d4u4.0+/ubuntu bionic/main amd64 Packages [1,064 kB]\n",
            "Get:24 http://ppa.launchpad.net/deadsnakes/ppa/ubuntu bionic/main amd64 Packages [45.3 kB]\n",
            "Fetched 16.9 MB in 4s (3,767 kB/s)\n",
            "Reading package lists... Done\n"
          ]
        }
      ],
      "source": [
        "!apt-get update\n",
        "!apt-get install openjdk-8-jdk-headless -qq > /dev/null\n",
        "!wget -q http://archive.apache.org/dist/spark/spark-2.3.1/spark-2.3.1-bin-hadoop2.7.tgz\n",
        "!tar xf spark-2.3.1-bin-hadoop2.7.tgz\n",
        "!pip install -q findspark\n"
      ]
    },
    {
      "cell_type": "markdown",
      "metadata": {
        "id": "FEuEkV0BlzAD"
      },
      "source": [
        "## Setup environment"
      ]
    },
    {
      "cell_type": "code",
      "execution_count": 4,
      "metadata": {
        "colab": {
          "base_uri": "https://localhost:8080/",
          "height": 240
        },
        "id": "sdOOq4twHN1K",
        "outputId": "97452d5e-991c-4e83-d90a-2f5e6edf4f9c"
      },
      "outputs": [
        {
          "output_type": "execute_result",
          "data": {
            "text/plain": [
              "<pyspark.sql.session.SparkSession at 0x7fc97e8b5e90>"
            ],
            "text/html": [
              "\n",
              "            <div>\n",
              "                <p><b>SparkSession - in-memory</b></p>\n",
              "                \n",
              "        <div>\n",
              "            <p><b>SparkContext</b></p>\n",
              "\n",
              "            <p><a href=\"http://98acfbac537e:4040\">Spark UI</a></p>\n",
              "\n",
              "            <dl>\n",
              "              <dt>Version</dt>\n",
              "                <dd><code>v2.3.1</code></dd>\n",
              "              <dt>Master</dt>\n",
              "                <dd><code>local[*]</code></dd>\n",
              "              <dt>AppName</dt>\n",
              "                <dd><code>pyspark-shell</code></dd>\n",
              "            </dl>\n",
              "        </div>\n",
              "        \n",
              "            </div>\n",
              "        "
            ]
          },
          "metadata": {},
          "execution_count": 4
        }
      ],
      "source": [
        "import os\n",
        "os.environ[\"JAVA_HOME\"] = \"/usr/lib/jvm/java-8-openjdk-amd64\"\n",
        "os.environ[\"SPARK_HOME\"] = \"/content/spark-2.3.1-bin-hadoop2.7\"\n",
        "\n",
        "import findspark\n",
        "findspark.init()\n",
        "from pyspark import SparkContext\n",
        "sc = SparkContext.getOrCreate()\n",
        "\n",
        "import pyspark\n",
        "from pyspark.sql import SparkSession\n",
        "spark = SparkSession.builder.getOrCreate() \n",
        "spark"
      ]
    },
    {
      "cell_type": "markdown",
      "metadata": {
        "id": "0ysUlfFrN5OD"
      },
      "source": [
        "## Downloading and preprocessing Chicago's Reported Crime Data"
      ]
    },
    {
      "cell_type": "code",
      "execution_count": null,
      "metadata": {
        "colab": {
          "base_uri": "https://localhost:8080/"
        },
        "id": "FDtw5Hy3N-pV",
        "outputId": "a292d9d2-e0a3-4e54-926a-90a7b471af05"
      },
      "outputs": [
        {
          "output_type": "stream",
          "name": "stdout",
          "text": [
            "--2022-08-12 02:13:20--  https://data.cityofchicago.org/api/views/ijzp-q8t2/rows.csv?accessType=DOWNLOAD\n",
            "Resolving data.cityofchicago.org (data.cityofchicago.org)... 52.206.140.205, 52.206.140.199, 52.206.68.26\n",
            "Connecting to data.cityofchicago.org (data.cityofchicago.org)|52.206.140.205|:443... connected.\n",
            "HTTP request sent, awaiting response... 200 OK\n",
            "Length: unspecified [text/csv]\n",
            "Saving to: ‘rows.csv?accessType=DOWNLOAD’\n",
            "\n",
            "?accessType=DOWNLOA     [  <=>               ]   1.22G  3.22MB/s               "
          ]
        }
      ],
      "source": [
        "!wget https://data.cityofchicago.org/api/views/ijzp-q8t2/rows.csv?accessType=DOWNLOAD\n",
        "!ls -l"
      ]
    },
    {
      "cell_type": "code",
      "execution_count": null,
      "metadata": {
        "id": "v4P5mMONYyVd"
      },
      "outputs": [],
      "source": [
        "!mv rows.csv\\?accessType\\=DOWNLOAD reported-crimes.csv\n",
        "!ls -l"
      ]
    },
    {
      "cell_type": "code",
      "execution_count": null,
      "metadata": {
        "id": "9-1cK0nPNS95"
      },
      "outputs": [],
      "source": [
        "from pyspark.sql.functions import to_timestamp,col,lit\n",
        "rc = spark.read.csv('reported-crimes.csv',header=True).withColumn('Date',to_timestamp(col('Date'),'MM/dd/yyyy hh:mm:ss a')).filter(col('Date') <= lit('2018-11-11'))\n",
        "rc.show(5)"
      ]
    },
    {
      "cell_type": "markdown",
      "metadata": {
        "id": "mI_zYOVpf2yK"
      },
      "source": [
        "## Joins"
      ]
    },
    {
      "cell_type": "markdown",
      "metadata": {
        "id": "5klVM9jJZBDl"
      },
      "source": [
        "**Download police station data**"
      ]
    },
    {
      "cell_type": "markdown",
      "source": [
        "Here we will download the police station data from the same chicago data portal. We will merge the above data with police station data to find some more information such as the district name."
      ],
      "metadata": {
        "id": "_S6gszP31BJK"
      }
    },
    {
      "cell_type": "code",
      "execution_count": 11,
      "metadata": {
        "colab": {
          "base_uri": "https://localhost:8080/"
        },
        "id": "808f1HzwgDyh",
        "outputId": "e1d983be-6e28-4dec-9108-133fc98fd211"
      },
      "outputs": [
        {
          "output_type": "stream",
          "name": "stdout",
          "text": [
            "--2022-08-12 02:26:59--  https://data.cityofchicago.org/api/views/z8bn-74gv/rows.csv?accessType=DOWNLOAD\n",
            "Resolving data.cityofchicago.org (data.cityofchicago.org)... 52.206.140.205, 52.206.140.199, 52.206.68.26\n",
            "Connecting to data.cityofchicago.org (data.cityofchicago.org)|52.206.140.205|:443... connected.\n",
            "HTTP request sent, awaiting response... 200 OK\n",
            "Length: unspecified [text/csv]\n",
            "Saving to: ‘police-station.csv’\n",
            "\n",
            "police-station.csv      [ <=>                ]   5.57K  --.-KB/s    in 0s      \n",
            "\n",
            "2022-08-12 02:26:59 (387 MB/s) - ‘police-station.csv’ saved [5699]\n",
            "\n"
          ]
        }
      ],
      "source": [
        "!wget -O police-station.csv https://data.cityofchicago.org/api/views/z8bn-74gv/rows.csv?accessType=DOWNLOAD\n"
      ]
    },
    {
      "cell_type": "code",
      "execution_count": 12,
      "metadata": {
        "colab": {
          "base_uri": "https://localhost:8080/"
        },
        "id": "qLS_NEpEgDBJ",
        "outputId": "b6ccb593-5ee3-484b-d1fd-cf039a1c896d"
      },
      "outputs": [
        {
          "output_type": "stream",
          "name": "stdout",
          "text": [
            "police-station.csv   \u001b[0m\u001b[01;34msample_data\u001b[0m/                spark-2.3.1-bin-hadoop2.7.tgz\n",
            "reported-crimes.csv  \u001b[01;34mspark-2.3.1-bin-hadoop2.7\u001b[0m/  \u001b[01;34mspark-warehouse\u001b[0m/\n"
          ]
        }
      ],
      "source": [
        "ls"
      ]
    },
    {
      "cell_type": "code",
      "execution_count": 14,
      "metadata": {
        "colab": {
          "base_uri": "https://localhost:8080/"
        },
        "id": "3-igLcB-wyWG",
        "outputId": "d8dae412-a729-4dad-d750-23c7881e67a0"
      },
      "outputs": [
        {
          "output_type": "stream",
          "name": "stdout",
          "text": [
            "+------------+-------------+-------------------+-------+-----+-----+--------------------+------------+------------+------------+------------+------------+-----------+------------+--------------------+\n",
            "|    DISTRICT|DISTRICT NAME|            ADDRESS|   CITY|STATE|  ZIP|             WEBSITE|       PHONE|         FAX|         TTY|X COORDINATE|Y COORDINATE|   LATITUDE|   LONGITUDE|            LOCATION|\n",
            "+------------+-------------+-------------------+-------+-----+-----+--------------------+------------+------------+------------+------------+------------+-----------+------------+--------------------+\n",
            "|Headquarters| Headquarters|3510 S Michigan Ave|Chicago|   IL|60653|http://home.chica...|        null|        null|        null| 1177731.401| 1881697.404|41.83070169|-87.62339535|(41.8307016873, -...|\n",
            "|          18|   Near North| 1160 N Larrabee St|Chicago|   IL|60610|http://home.chica...|312-742-5870|312-742-5771|312-742-5773| 1172080.029| 1908086.527|41.90324165|-87.64335214|(41.9032416531, -...|\n",
            "|          19|    Town Hall|   850 W Addison St|Chicago|   IL|60613|http://home.chica...|312-744-8320|312-744-4481|312-744-8011| 1169730.744| 1924160.317|41.94740046|-87.65151202|(41.9474004564, -...|\n",
            "|          20|      Lincoln| 5400 N Lincoln Ave|Chicago|   IL|60625|http://home.chica...|312-742-8714|312-742-8803|312-742-8841| 1158399.146| 1935788.826|41.97954951|-87.69284451|(41.9795495131, -...|\n",
            "|          22|  Morgan Park|1900 W Monterey Ave|Chicago|   IL|60643|http://home.chica...|312-745-0710|312-745-0814|312-745-0569| 1165825.476| 1830851.333|41.69143478|-87.66852039|(41.6914347795, -...|\n",
            "+------------+-------------+-------------------+-------+-----+-----+--------------------+------------+------------+------------+------------+------------+-----------+------------+--------------------+\n",
            "only showing top 5 rows\n",
            "\n"
          ]
        }
      ],
      "source": [
        "ps=spark.read.csv('police-station.csv',header=True)\n",
        "ps.show(5)"
      ]
    },
    {
      "cell_type": "code",
      "execution_count": null,
      "metadata": {
        "id": "Wz8D-NF2wyQb"
      },
      "outputs": [],
      "source": [
        ""
      ]
    },
    {
      "cell_type": "markdown",
      "metadata": {
        "id": "CdBqB9Oiw0gV"
      },
      "source": [
        "**The reported crimes dataset has only the district number. Add the district name by joining with the police station dataset**"
      ]
    },
    {
      "cell_type": "markdown",
      "source": [
        "Now we will cache the rc dataset and then run an action to execute the cache command since cache command is lazily evaluated.\n",
        "This is done to speed up the processing since rc data will be in cache."
      ],
      "metadata": {
        "id": "ScxCKWfC4ilQ"
      }
    },
    {
      "cell_type": "code",
      "execution_count": 15,
      "metadata": {
        "colab": {
          "base_uri": "https://localhost:8080/"
        },
        "id": "3HBJev2Ctdbo",
        "outputId": "51df4cb9-4dff-468b-9a8d-226f344eee78"
      },
      "outputs": [
        {
          "output_type": "execute_result",
          "data": {
            "text/plain": [
              "6755492"
            ]
          },
          "metadata": {},
          "execution_count": 15
        }
      ],
      "source": [
        "rc.cache()\n",
        "rc.count()"
      ]
    },
    {
      "cell_type": "code",
      "execution_count": 16,
      "metadata": {
        "colab": {
          "base_uri": "https://localhost:8080/"
        },
        "id": "GP90Bm-lc52-",
        "outputId": "88708b0f-d2eb-4d4b-daed-cd955f24ce49"
      },
      "outputs": [
        {
          "output_type": "stream",
          "name": "stdout",
          "text": [
            "+------------+\n",
            "|    District|\n",
            "+------------+\n",
            "|           7|\n",
            "|          15|\n",
            "|          11|\n",
            "|           3|\n",
            "|           8|\n",
            "|          22|\n",
            "|          16|\n",
            "|           5|\n",
            "|          18|\n",
            "|          17|\n",
            "|           6|\n",
            "|          19|\n",
            "|          25|\n",
            "|Headquarters|\n",
            "|          24|\n",
            "|           9|\n",
            "|           1|\n",
            "|          20|\n",
            "|          10|\n",
            "|           4|\n",
            "+------------+\n",
            "only showing top 20 rows\n",
            "\n"
          ]
        }
      ],
      "source": [
        "ps.select(col('District')).distinct().show(20)"
      ]
    },
    {
      "cell_type": "markdown",
      "source": [
        ""
      ],
      "metadata": {
        "id": "fa5o-j5U6Ach"
      }
    },
    {
      "cell_type": "code",
      "execution_count": 18,
      "metadata": {
        "colab": {
          "base_uri": "https://localhost:8080/"
        },
        "id": "zbdoVA6Gc6mG",
        "outputId": "5902538b-f2ee-4e51-f661-9ebdf63bd42f"
      },
      "outputs": [
        {
          "output_type": "stream",
          "name": "stdout",
          "text": [
            "+--------+\n",
            "|District|\n",
            "+--------+\n",
            "|     009|\n",
            "|     012|\n",
            "|     024|\n",
            "|    null|\n",
            "|     031|\n",
            "|     015|\n",
            "|     006|\n",
            "|     019|\n",
            "|     020|\n",
            "|     011|\n",
            "|     025|\n",
            "|     005|\n",
            "|     003|\n",
            "|     016|\n",
            "|     018|\n",
            "|     008|\n",
            "|     022|\n",
            "|     001|\n",
            "|     014|\n",
            "|     010|\n",
            "+--------+\n",
            "only showing top 20 rows\n",
            "\n"
          ]
        }
      ],
      "source": [
        "rc.select(col('District')).distinct().show(20)"
      ]
    },
    {
      "cell_type": "markdown",
      "source": [
        "We see that there are added 0 in front of district code in rc. so we need to do padding in ps dataframe.\n",
        "we need to explore the spark functions to find if any such function exists."
      ],
      "metadata": {
        "id": "7LafhI1V6M2J"
      }
    },
    {
      "cell_type": "code",
      "execution_count": 19,
      "metadata": {
        "id": "V06UpJ4Tc7oJ"
      },
      "outputs": [],
      "source": [
        "from pyspark.sql.functions import lpad"
      ]
    },
    {
      "cell_type": "code",
      "execution_count": 20,
      "metadata": {
        "colab": {
          "base_uri": "https://localhost:8080/"
        },
        "id": "S_YiRfSgc7em",
        "outputId": "ad6f6a3e-8420-4ed0-a547-12024cc6dbe6"
      },
      "outputs": [
        {
          "output_type": "stream",
          "name": "stdout",
          "text": [
            "Help on function lpad in module pyspark.sql.functions:\n",
            "\n",
            "lpad(col, len, pad)\n",
            "    Left-pad the string column to width `len` with `pad`.\n",
            "    \n",
            "    >>> df = spark.createDataFrame([('abcd',)], ['s',])\n",
            "    >>> df.select(lpad(df.s, 6, '#').alias('s')).collect()\n",
            "    [Row(s='##abcd')]\n",
            "    \n",
            "    .. versionadded:: 1.5\n",
            "\n"
          ]
        }
      ],
      "source": [
        "help(lpad)"
      ]
    },
    {
      "cell_type": "code",
      "execution_count": 24,
      "metadata": {
        "colab": {
          "base_uri": "https://localhost:8080/"
        },
        "id": "nWQMpWQec7SO",
        "outputId": "bad4a589-3877-48c4-8845-90a25b57bf4a"
      },
      "outputs": [
        {
          "output_type": "stream",
          "name": "stdout",
          "text": [
            "+--------------------+\n",
            "|lpad(District, 3, 0)|\n",
            "+--------------------+\n",
            "|                 Hea|\n",
            "|                 018|\n",
            "|                 019|\n",
            "|                 020|\n",
            "|                 022|\n",
            "|                 024|\n",
            "|                 025|\n",
            "|                 001|\n",
            "|                 002|\n",
            "|                 003|\n",
            "+--------------------+\n",
            "only showing top 10 rows\n",
            "\n"
          ]
        }
      ],
      "source": [
        "ps.select(lpad(col('District'),3,'0')).show(10)"
      ]
    },
    {
      "cell_type": "code",
      "execution_count": 29,
      "metadata": {
        "id": "n4eBu-vMc6bN"
      },
      "outputs": [],
      "source": [
        "ps=ps.withColumn('Format_District',lpad(col('District'),3,'0'))"
      ]
    },
    {
      "cell_type": "code",
      "execution_count": 30,
      "metadata": {
        "colab": {
          "base_uri": "https://localhost:8080/"
        },
        "id": "8CR9XUeCc6Tn",
        "outputId": "d9affec2-c33b-4677-d936-bd5c5aea87e8"
      },
      "outputs": [
        {
          "output_type": "stream",
          "name": "stdout",
          "text": [
            "+------------+--------------+--------------------+-------+-----+-----+--------------------+------------+------------+------------+------------+------------+-----------+------------+--------------------+---------------+---------------+\n",
            "|    DISTRICT| DISTRICT NAME|             ADDRESS|   CITY|STATE|  ZIP|             WEBSITE|       PHONE|         FAX|         TTY|X COORDINATE|Y COORDINATE|   LATITUDE|   LONGITUDE|            LOCATION|Format District|Format_District|\n",
            "+------------+--------------+--------------------+-------+-----+-----+--------------------+------------+------------+------------+------------+------------+-----------+------------+--------------------+---------------+---------------+\n",
            "|Headquarters|  Headquarters| 3510 S Michigan Ave|Chicago|   IL|60653|http://home.chica...|        null|        null|        null| 1177731.401| 1881697.404|41.83070169|-87.62339535|(41.8307016873, -...|            Hea|            Hea|\n",
            "|          18|    Near North|  1160 N Larrabee St|Chicago|   IL|60610|http://home.chica...|312-742-5870|312-742-5771|312-742-5773| 1172080.029| 1908086.527|41.90324165|-87.64335214|(41.9032416531, -...|            018|            018|\n",
            "|          19|     Town Hall|    850 W Addison St|Chicago|   IL|60613|http://home.chica...|312-744-8320|312-744-4481|312-744-8011| 1169730.744| 1924160.317|41.94740046|-87.65151202|(41.9474004564, -...|            019|            019|\n",
            "|          20|       Lincoln|  5400 N Lincoln Ave|Chicago|   IL|60625|http://home.chica...|312-742-8714|312-742-8803|312-742-8841| 1158399.146| 1935788.826|41.97954951|-87.69284451|(41.9795495131, -...|            020|            020|\n",
            "|          22|   Morgan Park| 1900 W Monterey Ave|Chicago|   IL|60643|http://home.chica...|312-745-0710|312-745-0814|312-745-0569| 1165825.476| 1830851.333|41.69143478|-87.66852039|(41.6914347795, -...|            022|            022|\n",
            "|          24|   Rogers Park|     6464 N Clark St|Chicago|   IL|60626|http://home.chica...|312-744-5907|312-744-6928|312-744-7603| 1164193.588| 1943199.401|41.99976348|-87.67132429|(41.9997634842, -...|            024|            024|\n",
            "|          25| Grand Central|    5555 W Grand Ave|Chicago|   IL|60639|http://home.chica...|312-746-8605|312-746-4353|312-746-8383| 1138770.871| 1913442.439|41.91860889|-87.76557448|(41.9186088912, -...|            025|            025|\n",
            "|           1|       Central|     1718 S State St|Chicago|   IL|60616|http://home.chica...|312-745-4290|312-745-3694|312-745-3693| 1176569.052| 1891771.704|41.85837259|-87.62735617|(41.8583725929, -...|            001|            001|\n",
            "|           2|     Wentworth|5101 S Wentworth Ave|Chicago|   IL|60609|http://home.chica...|312-747-8366|312-747-5396|312-747-6656| 1175864.837| 1871153.753|41.80181109|-87.63056018|(41.8018110912, -...|            002|            002|\n",
            "|           3|Grand Crossing|7040 S Cottage Gr...|Chicago|   IL|60637|http://home.chica...|312-747-8201|312-747-5479|312-747-9168| 1182739.183| 1858317.732|41.76643089|-87.60574786|(41.7664308925, -...|            003|            003|\n",
            "+------------+--------------+--------------------+-------+-----+-----+--------------------+------------+------------+------------+------------+------------+-----------+------------+--------------------+---------------+---------------+\n",
            "only showing top 10 rows\n",
            "\n"
          ]
        }
      ],
      "source": [
        "ps.show(10)"
      ]
    },
    {
      "cell_type": "code",
      "execution_count": 34,
      "metadata": {
        "colab": {
          "base_uri": "https://localhost:8080/"
        },
        "id": "PxL3DKpPc6KG",
        "outputId": "e5f39371-50ec-4662-ff84-669dadc5d6d2"
      },
      "outputs": [
        {
          "output_type": "stream",
          "name": "stdout",
          "text": [
            "+--------+-----------+-------------------+--------------------+----+------------------+--------------------+--------------------+------+--------+----+--------+----+--------------+--------+------------+------------+----+--------------------+------------+-------------+--------------------+--------+-------------+--------------------+-------+-----+-----+--------------------+------------+------------+------------+------------+------------+-----------+------------+--------------------+---------------+---------------+\n",
            "|      ID|Case Number|               Date|               Block|IUCR|      Primary Type|         Description|Location Description|Arrest|Domestic|Beat|District|Ward|Community Area|FBI Code|X Coordinate|Y Coordinate|Year|          Updated On|    Latitude|    Longitude|            Location|DISTRICT|DISTRICT NAME|             ADDRESS|   CITY|STATE|  ZIP|             WEBSITE|       PHONE|         FAX|         TTY|X COORDINATE|Y COORDINATE|   LATITUDE|   LONGITUDE|            LOCATION|Format District|Format_District|\n",
            "+--------+-----------+-------------------+--------------------+----+------------------+--------------------+--------------------+------+--------+----+--------+----+--------------+--------+------------+------------+----+--------------------+------------+-------------+--------------------+--------+-------------+--------------------+-------+-----+-----+--------------------+------------+------------+------------+------------+------------+-----------+------------+--------------------+---------------+---------------+\n",
            "|10224738|   HY411648|2015-09-05 13:30:00|     043XX S WOOD ST|0486|           BATTERY|DOMESTIC BATTERY ...|           RESIDENCE| false|    true|0924|     009|  12|            61|     08B|     1165074|     1875917|2015|02/10/2018 03:50:...|41.815117282|-87.669999562|(41.815117282, -8...|       9|      Deering|   3120 S Halsted St|Chicago|   IL|60608|http://home.chica...|312-747-8227|312-747-5329|312-747-9172|  1171440.24| 1884085.224|41.83739443|-87.64640771|(41.8373944311, -...|            009|            009|\n",
            "|10224739|   HY411615|2015-09-04 11:30:00| 008XX N CENTRAL AVE|0870|             THEFT|      POCKET-PICKING|             CTA BUS| false|   false|1511|     015|  29|            25|      06|     1138875|     1904869|2015|02/10/2018 03:50:...|41.895080471|-87.765400451|(41.895080471, -8...|      15|       Austin|   5701 W Madison St|Chicago|   IL|60644|http://home.chica...|312-743-1440|312-743-1366|312-743-1485| 1138148.815| 1899399.078|41.88008346|-87.76819989|(41.8800834614, -...|            015|            015|\n",
            "|11646166|   JC213529|2018-09-01 00:01:00|082XX S INGLESIDE...|0810|             THEFT|           OVER $500|           RESIDENCE| false|    true|0631|     006|   8|            44|      06|        null|        null|2018|04/06/2019 04:04:...|        null|         null|                null|       6|      Gresham|   7808 S Halsted St|Chicago|   IL|60620|http://home.chica...|312-745-3617|312-745-3649|312-745-3639| 1172283.013| 1853022.646|41.75213684|-87.64422891|(41.7521368378, -...|            006|            006|\n",
            "|10224740|   HY411595|2015-09-05 12:45:00|   035XX W BARRY AVE|2023|         NARCOTICS|POSS: HEROIN(BRN/...|            SIDEWALK|  true|   false|1412|     014|  35|            21|      18|     1152037|     1920384|2015|02/10/2018 03:50:...|41.937405765|-87.716649687|(41.937405765, -8...|      14|  Shakespeare|2150 N California...|Chicago|   IL|60647|http://home.chica...|312-744-8250|312-744-2422|312-744-8260| 1157304.426| 1914481.521|41.92110332|-87.69745182|(41.9211033246, -...|            014|            014|\n",
            "|10224741|   HY411610|2015-09-05 13:00:00| 0000X N LARAMIE AVE|0560|           ASSAULT|              SIMPLE|           APARTMENT| false|    true|1522|     015|  28|            25|     08A|     1141706|     1900086|2015|02/10/2018 03:50:...|41.881903443|-87.755121152|(41.881903443, -8...|      15|       Austin|   5701 W Madison St|Chicago|   IL|60644|http://home.chica...|312-743-1440|312-743-1366|312-743-1485| 1138148.815| 1899399.078|41.88008346|-87.76819989|(41.8800834614, -...|            015|            015|\n",
            "|10224742|   HY411435|2015-09-05 10:55:00| 082XX S LOOMIS BLVD|0610|          BURGLARY|      FORCIBLE ENTRY|           RESIDENCE| false|   false|0614|     006|  21|            71|      05|     1168430|     1850165|2015|02/10/2018 03:50:...|41.744378879|-87.658430635|(41.744378879, -8...|       6|      Gresham|   7808 S Halsted St|Chicago|   IL|60620|http://home.chica...|312-745-3617|312-745-3649|312-745-3639| 1172283.013| 1853022.646|41.75213684|-87.64422891|(41.7521368378, -...|            006|            006|\n",
            "|10224743|   HY411629|2015-09-04 18:00:00|021XX W CHURCHILL ST|0620|          BURGLARY|      UNLAWFUL ENTRY|    RESIDENCE-GARAGE| false|   false|1434|     014|  32|            24|      05|     1161628|     1912157|2015|02/10/2018 03:50:...|41.914635603|-87.681630909|(41.914635603, -8...|      14|  Shakespeare|2150 N California...|Chicago|   IL|60647|http://home.chica...|312-744-8250|312-744-2422|312-744-8260| 1157304.426| 1914481.521|41.92110332|-87.69745182|(41.9211033246, -...|            014|            014|\n",
            "|10224744|   HY411605|2015-09-05 13:00:00|   025XX W CERMAK RD|0860|             THEFT|        RETAIL THEFT|  GROCERY FOOD STORE|  true|   false|1034|     010|  25|            31|      06|     1159734|     1889313|2015|09/17/2015 11:37:...|41.851988885|-87.689219118|(41.851988885, -8...|      10|        Ogden|    3315 W Ogden Ave|Chicago|   IL|60623|http://home.chica...|312-747-7511|312-747-7429|312-747-7471| 1154500.753| 1890985.501|41.85668453|-87.70838196|(41.8566845327, -...|            010|            010|\n",
            "|10224745|   HY411654|2015-09-05 11:30:00|031XX W WASHINGTO...|0320|           ROBBERY|STRONGARM - NO WE...|              STREET| false|    true|1222|     012|  27|            27|      03|     1155536|     1900515|2015|02/10/2018 03:50:...| 41.88281374|-87.704325717|(41.88281374, -87...|      12|    Near West|1412 S Blue Islan...|   null| null| null|                null|        null|        null|        null|        null|        null|       null|        null|                null|            012|            012|\n",
            "|11645836|   JC212333|2016-05-01 00:25:00| 055XX S ROCKWELL ST|1153|DECEPTIVE PRACTICE|FINANCIAL IDENTIT...|                null| false|   false|0824|     008|  15|            63|      11|        null|        null|2016|04/06/2019 04:04:...|        null|         null|                null|       8| Chicago Lawn|      3420 W 63rd St|Chicago|   IL|60629|http://home.chica...|312-747-8730|312-747-8545|312-747-8116| 1154575.242| 1862672.049|41.77898719|-87.70886382|(41.778987189, -8...|            008|            008|\n",
            "+--------+-----------+-------------------+--------------------+----+------------------+--------------------+--------------------+------+--------+----+--------+----+--------------+--------+------------+------------+----+--------------------+------------+-------------+--------------------+--------+-------------+--------------------+-------+-----+-----+--------------------+------------+------------+------------+------------+------------+-----------+------------+--------------------+---------------+---------------+\n",
            "only showing top 10 rows\n",
            "\n"
          ]
        }
      ],
      "source": [
        "rc.join(ps,rc.District==ps.Format_District,'left_outer').show(10)"
      ]
    },
    {
      "cell_type": "code",
      "source": [
        "ps.columns"
      ],
      "metadata": {
        "id": "5-j6z0i9_Bow",
        "outputId": "b606be07-278b-40d7-940f-5fb34cfc56f6",
        "colab": {
          "base_uri": "https://localhost:8080/"
        }
      },
      "execution_count": 36,
      "outputs": [
        {
          "output_type": "execute_result",
          "data": {
            "text/plain": [
              "['DISTRICT',\n",
              " 'DISTRICT NAME',\n",
              " 'ADDRESS',\n",
              " 'CITY',\n",
              " 'STATE',\n",
              " 'ZIP',\n",
              " 'WEBSITE',\n",
              " 'PHONE',\n",
              " 'FAX',\n",
              " 'TTY',\n",
              " 'X COORDINATE',\n",
              " 'Y COORDINATE',\n",
              " 'LATITUDE',\n",
              " 'LONGITUDE',\n",
              " 'LOCATION',\n",
              " 'Format District',\n",
              " 'Format_District']"
            ]
          },
          "metadata": {},
          "execution_count": 36
        }
      ]
    },
    {
      "cell_type": "markdown",
      "source": [
        "We can also drop the irrelevant using .drop"
      ],
      "metadata": {
        "id": "OSnomBYyAHEn"
      }
    },
    {
      "cell_type": "code",
      "source": [
        "rc.join(ps,rc.District==ps.Format_District,'left_outer').drop(\n",
        " 'ADDRESS',\n",
        " 'CITY',\n",
        " 'STATE',\n",
        " 'ZIP',\n",
        " 'WEBSITE',\n",
        " 'PHONE',\n",
        " 'FAX',\n",
        " 'TTY',\n",
        " 'X COORDINATE',\n",
        " 'Y COORDINATE',\n",
        " 'LATITUDE',\n",
        " 'LONGITUDE',\n",
        " 'LOCATION',\n",
        " 'Format District',\n",
        " 'Format_District'\n",
        ").show(10)"
      ],
      "metadata": {
        "id": "f5vX5Znw_pf9",
        "outputId": "2eb8a171-e666-4539-d02d-a776a3b38e2b",
        "colab": {
          "base_uri": "https://localhost:8080/"
        }
      },
      "execution_count": 38,
      "outputs": [
        {
          "output_type": "stream",
          "name": "stdout",
          "text": [
            "+--------+-----------+-------------------+--------------------+----+------------------+--------------------+--------------------+------+--------+----+--------+----+--------------+--------+----+--------------------+--------+-------------+\n",
            "|      ID|Case Number|               Date|               Block|IUCR|      Primary Type|         Description|Location Description|Arrest|Domestic|Beat|District|Ward|Community Area|FBI Code|Year|          Updated On|DISTRICT|DISTRICT NAME|\n",
            "+--------+-----------+-------------------+--------------------+----+------------------+--------------------+--------------------+------+--------+----+--------+----+--------------+--------+----+--------------------+--------+-------------+\n",
            "|10224738|   HY411648|2015-09-05 13:30:00|     043XX S WOOD ST|0486|           BATTERY|DOMESTIC BATTERY ...|           RESIDENCE| false|    true|0924|     009|  12|            61|     08B|2015|02/10/2018 03:50:...|       9|      Deering|\n",
            "|10224739|   HY411615|2015-09-04 11:30:00| 008XX N CENTRAL AVE|0870|             THEFT|      POCKET-PICKING|             CTA BUS| false|   false|1511|     015|  29|            25|      06|2015|02/10/2018 03:50:...|      15|       Austin|\n",
            "|11646166|   JC213529|2018-09-01 00:01:00|082XX S INGLESIDE...|0810|             THEFT|           OVER $500|           RESIDENCE| false|    true|0631|     006|   8|            44|      06|2018|04/06/2019 04:04:...|       6|      Gresham|\n",
            "|10224740|   HY411595|2015-09-05 12:45:00|   035XX W BARRY AVE|2023|         NARCOTICS|POSS: HEROIN(BRN/...|            SIDEWALK|  true|   false|1412|     014|  35|            21|      18|2015|02/10/2018 03:50:...|      14|  Shakespeare|\n",
            "|10224741|   HY411610|2015-09-05 13:00:00| 0000X N LARAMIE AVE|0560|           ASSAULT|              SIMPLE|           APARTMENT| false|    true|1522|     015|  28|            25|     08A|2015|02/10/2018 03:50:...|      15|       Austin|\n",
            "|10224742|   HY411435|2015-09-05 10:55:00| 082XX S LOOMIS BLVD|0610|          BURGLARY|      FORCIBLE ENTRY|           RESIDENCE| false|   false|0614|     006|  21|            71|      05|2015|02/10/2018 03:50:...|       6|      Gresham|\n",
            "|10224743|   HY411629|2015-09-04 18:00:00|021XX W CHURCHILL ST|0620|          BURGLARY|      UNLAWFUL ENTRY|    RESIDENCE-GARAGE| false|   false|1434|     014|  32|            24|      05|2015|02/10/2018 03:50:...|      14|  Shakespeare|\n",
            "|10224744|   HY411605|2015-09-05 13:00:00|   025XX W CERMAK RD|0860|             THEFT|        RETAIL THEFT|  GROCERY FOOD STORE|  true|   false|1034|     010|  25|            31|      06|2015|09/17/2015 11:37:...|      10|        Ogden|\n",
            "|10224745|   HY411654|2015-09-05 11:30:00|031XX W WASHINGTO...|0320|           ROBBERY|STRONGARM - NO WE...|              STREET| false|    true|1222|     012|  27|            27|      03|2015|02/10/2018 03:50:...|      12|    Near West|\n",
            "|11645836|   JC212333|2016-05-01 00:25:00| 055XX S ROCKWELL ST|1153|DECEPTIVE PRACTICE|FINANCIAL IDENTIT...|                null| false|   false|0824|     008|  15|            63|      11|2016|04/06/2019 04:04:...|       8| Chicago Lawn|\n",
            "+--------+-----------+-------------------+--------------------+----+------------------+--------------------+--------------------+------+--------+----+--------+----+--------------+--------+----+--------------------+--------+-------------+\n",
            "only showing top 10 rows\n",
            "\n"
          ]
        }
      ]
    },
    {
      "cell_type": "code",
      "source": [
        ""
      ],
      "metadata": {
        "id": "IcPnmzbV_7O8"
      },
      "execution_count": null,
      "outputs": []
    }
  ],
  "metadata": {
    "colab": {
      "name": "joins.ipynb",
      "provenance": [],
      "include_colab_link": true
    },
    "kernelspec": {
      "display_name": "Python 3",
      "language": "python",
      "name": "python3"
    },
    "language_info": {
      "codemirror_mode": {
        "name": "ipython",
        "version": 3
      },
      "file_extension": ".py",
      "mimetype": "text/x-python",
      "name": "python",
      "nbconvert_exporter": "python",
      "pygments_lexer": "ipython3",
      "version": "3.6.5"
    }
  },
  "nbformat": 4,
  "nbformat_minor": 0
}